{
 "cells": [
  {
   "cell_type": "markdown",
   "metadata": {},
   "source": [
    "# Top Brass (as compact as possible) -- Example 5.1 in Rardin (1998)¶\n",
    "\n",
    "Top Brass Trophy Company makes large championship trophies for youth athletic leagues. At the moment, they are planning production for fall sports: football and soccer. Each football trophy has a wood base, an engraved plaque, a large brass football on top, and returns \\$12 in profit. Soccer trophies are similar (a brass ball, a wood base, and an engraved plaque) except that a brass soccer ball is on top, and the unit profit is only \\$9. Since the football has an asymmetric shape, its base requires 4 board feet of wood; the soccer base requires only 2 board feet. At the moment there are 1000 brass footballs in stock, 1500 soccer balls, 1750 plaques, and 4800 board feet of wood. What trophies should be produced from these supplies to maximize total profit assuming that all that are made can be sold?\n",
    "\n"
   ]
  },
  {
   "cell_type": "markdown",
   "metadata": {},
   "source": [
    "## Problem Data"
   ]
  },
  {
   "cell_type": "code",
   "execution_count": 2,
   "metadata": {},
   "outputs": [],
   "source": [
    "trophy_types = [:football, :soccer] # these are the possible trophy types\n",
    "\n",
    "ingredients = [:wood, :plaques, :brass_football, :brass_soccer] # what goes into each trophy\n",
    "\n",
    "profit = Dict( zip(trophy_types, [12,9] ) ) # profit produced by each trophy type\n",
    "\n",
    "resource_avail = Dict( zip(ingredients, [4800, 1750, 1000, 1500] ) ); # amount of each type of resource available\n",
    "\n",
    "# recipes for each trophy type\n",
    "using NamedArrays\n",
    "trophy_ingredient_matrix = [4 1 1 0\n",
    "                            2 1 0 1]\n",
    "\n",
    "# create named array that contains info on how much of each ingredient each trphy uses\n",
    "recipe = NamedArray(trophy_ingredient_matrix, (trophy_types, ingredients), (\"type\",\"ingredient\"));"
   ]
  },
  {
   "cell_type": "markdown",
   "metadata": {},
   "source": [
    "## Problem Model"
   ]
  },
  {
   "cell_type": "code",
   "execution_count": 3,
   "metadata": {},
   "outputs": [
    {
     "name": "stdout",
     "output_type": "stream",
     "text": [
      "trophy: 1 dimensions:\n",
      "[football] = 650.0\n",
      "[  soccer] = 1100.0\n",
      "Total profit will be $17700.0\n"
     ]
    }
   ],
   "source": [
    "using Clp, JuMP\n",
    "\n",
    "m = Model(solver=ClpSolver())\n",
    "\n",
    "@variable(m, trophy[trophy_types] >= 0)        # trophy variables now a dictionary indexed over possible types\n",
    "\n",
    "@expression(m, tot_profit, sum(profit[i] * trophy[i] for i in trophy_types) )\n",
    "\n",
    "# Now we can create a \"dictionary\" of constraints indexed by each type of ingredient\n",
    "@constraint(m, constr[i in ingredients], sum(recipe[t, i] * trophy[t] for t in trophy_types) <= resource_avail[i] )\n",
    "\n",
    "@objective(m, Max, tot_profit)\n",
    "\n",
    "status = solve(m)\n",
    "\n",
    "println(getvalue(trophy))\n",
    "println(\"Total profit will be \\$\", getobjectivevalue(m))"
   ]
  },
  {
   "cell_type": "code",
   "execution_count": null,
   "metadata": {},
   "outputs": [],
   "source": []
  }
 ],
 "metadata": {
  "kernelspec": {
   "display_name": "Julia 0.6.4",
   "language": "julia",
   "name": "julia-0.6"
  },
  "language_info": {
   "file_extension": ".jl",
   "mimetype": "application/julia",
   "name": "julia",
   "version": "0.6.4"
  }
 },
 "nbformat": 4,
 "nbformat_minor": 2
}
