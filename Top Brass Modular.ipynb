{
 "cells": [
  {
   "cell_type": "markdown",
   "metadata": {},
   "source": [
    "# Top Brass (Modular version) -- Example 5.1 in Rardin (1998)\n",
    "\n",
    "Top Brass Trophy Company makes large championship trophies for youth athletic leagues. At the moment, they are planning production for fall sports: football and soccer. Each football trophy has a wood base, an engraved plaque, a large brass football on top, and returns \\\\$12 in profit. Soccer trophies are similar (a brass ball, a wood base, and an engraved plaque) except that a brass soccer ball is on top, and the unit profit is only \\\\$9. Since the football has an asymmetric shape, its base requires 4 board feet of wood; the soccer base requires only 2 board feet. At the moment there are 1000 brass footballs in stock, 1500 soccer balls, 1750 plaques, and 4800 board feet of wood. What trophies should be produced from these supplies to maximize total profit assuming that all that are made can be sold?\n"
   ]
  },
  {
   "cell_type": "markdown",
   "metadata": {},
   "source": [
    "## Problem Data\n",
    "\n",
    "We can improve our code's modifiability and reusability by separating the _data_ from the _structure_."
   ]
  },
  {
   "cell_type": "code",
   "execution_count": 1,
   "metadata": {},
   "outputs": [],
   "source": [
    "# An Array in Julia is a list of elements\n",
    "trophy_types = [:football, :soccer] # these are the possible trophy types\n",
    "\n",
    "# this array is of type \"Symbol.\" Putting a colon in front of an element makes it a \"Symbol\" type.\n",
    "# typically Symbol arrays are easier to implement in JuMP than other types (such as string, integer, etc.)\n",
    "\n",
    "# A Dictionary in Julia maps a key (any type) to an element (any type)\n",
    "wood_req = Dict(:football => 4, :soccer => 2) # how much wood each trophy type will use\n",
    "\n",
    "# in this Dictionary, we are mapping keys of Symbol type (:football) to elements of integer type (4)\n",
    "\n",
    "plaque_req = Dict(:football => 1, :soccer => 1) # how many plaques each trophy type will use\n",
    "\n",
    "profit = Dict( :football => 12, :soccer => 9) # profit produced by each trophy type\n",
    "\n",
    "# we are told the amount of each resource we have available\n",
    "wood_avail = 4800\n",
    "plaques_avail = 1750\n",
    "football_avail = 1000\n",
    "soccer_avail = 1500;     # semicolons supress output"
   ]
  },
  {
   "cell_type": "markdown",
   "metadata": {},
   "source": [
    "## Problem Model\n",
    "\n",
    "Now that we've defined our _data_ we can build a _general model_."
   ]
  },
  {
   "cell_type": "code",
   "execution_count": 9,
   "metadata": {},
   "outputs": [
    {
     "name": "stdout",
     "output_type": "stream",
     "text": [
      "trophy: 1 dimensions:\n",
      "[football] = 650.0\n",
      "[  soccer] = 1100.0\n",
      "Total profit will be $17700.0\n",
      "We will use 4800.0 board feet of wood\n",
      "We will use 1750.0 plaques\n"
     ]
    }
   ],
   "source": [
    "# always specify which packages you're going to use\n",
    "using JuMP, Clp\n",
    "\n",
    "#create a new model object, specifying the solver\n",
    "m = Model()\n",
    "\n",
    "@variable(m, trophy[trophy_types] >= 0)        # trophy variable object is a \"dictionary\" indexed over trophy types\n",
    "\n",
    "@objective(m, Max, sum(profit[i] * trophy[i] for i in trophy_types) )    # maximize profit\n",
    "\n",
    "@constraint(m, sum(wood_req[i] * trophy[i] for i in trophy_types) <= wood_avail) # use only available wood\n",
    "@constraint(m, sum(plaque_req[i] * trophy[i] for i in trophy_types) <= plaques_avail) # use only available plaques\n",
    "@constraint(m, trophy[:football] <= football_avail)  # use only available brass footballs\n",
    "@constraint(m, trophy[:soccer] <= soccer_avail)  # use only available brass soccer balls\n",
    "\n",
    "status = solve(m) # solve instance of model\n",
    "\n",
    "println(getvalue(trophy)) # print values of trophy variables\n",
    "println(\"Total profit will be \\$\", getobjectivevalue(m))\n",
    "println(\"We will use \", getvalue(sum(wood_req[i] * trophy[i] for i in trophy_types) ), \" board feet of wood\")\n",
    "println(\"We will use \", getvalue(sum(plaque_req[i] * trophy[i] for i in trophy_types) ), \" plaques\")"
   ]
  },
  {
   "cell_type": "markdown",
   "metadata": {},
   "source": [
    "Another way to do the same thing using \"expression\" objects:"
   ]
  },
  {
   "cell_type": "code",
   "execution_count": 11,
   "metadata": {},
   "outputs": [
    {
     "name": "stdout",
     "output_type": "stream",
     "text": [
      "trophy: 1 dimensions:\n",
      "[football] = 650.0\n",
      "[  soccer] = 1100.0\n",
      "Total profit will be $17700.0\n",
      "We will use 4800.0 board feet of wood\n",
      "We will use 1750.0 plaques\n"
     ]
    }
   ],
   "source": [
    "@expression(m, tot_wood, sum(wood_req[i] * trophy[i] for i in trophy_types) )\n",
    "@expression(m, tot_plaques, sum(plaque_req[i] * trophy[i] for i in trophy_types) )\n",
    "@expression(m, tot_profit, sum(profit[i] * trophy[i] for i in trophy_types) )\n",
    "\n",
    "@constraint(m, tot_wood <= wood_avail)\n",
    "@constraint(m, tot_plaques <= plaques_avail)\n",
    "@constraint(m, trophy[:football] <= football_avail)\n",
    "@constraint(m, trophy[:soccer] <= soccer_avail)\n",
    "\n",
    "@objective(m, Max, tot_profit)\n",
    "\n",
    "status = solve(m)\n",
    "\n",
    "println(getvalue(trophy))\n",
    "println(\"Total profit will be \\$\", getobjectivevalue(m))\n",
    "println(\"We will use \", getvalue(tot_wood), \" board feet of wood\")\n",
    "println(\"We will use \", getvalue(tot_plaques), \" plaques\")"
   ]
  },
  {
   "cell_type": "code",
   "execution_count": null,
   "metadata": {},
   "outputs": [],
   "source": []
  }
 ],
 "metadata": {
  "kernelspec": {
   "display_name": "Julia 0.6.4",
   "language": "julia",
   "name": "julia-0.6"
  },
  "language_info": {
   "file_extension": ".jl",
   "mimetype": "application/julia",
   "name": "julia",
   "version": "0.6.4"
  }
 },
 "nbformat": 4,
 "nbformat_minor": 2
}
